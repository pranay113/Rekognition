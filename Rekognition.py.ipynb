{
 "cells": [
  {
   "cell_type": "code",
   "execution_count": null,
   "id": "f32eeb4d",
   "metadata": {},
   "outputs": [],
   "source": [
    "import cv2"
   ]
  },
  {
   "cell_type": "code",
   "execution_count": null,
   "id": "51c92220",
   "metadata": {},
   "outputs": [],
   "source": [
    "cap = cv2.VideoCapture(0)\n",
    "myimage = \"pranay.jpg\"\n",
    "ret , photo = cap.read()\n",
    "cv2.imwrite( myimage , photo)\n",
    "cap.release()"
   ]
  },
  {
   "cell_type": "code",
   "execution_count": null,
   "id": "8e41d4b2",
   "metadata": {},
   "outputs": [],
   "source": [
    "myimage"
   ]
  },
  {
   "cell_type": "code",
   "execution_count": null,
   "id": "5ce26604",
   "metadata": {},
   "outputs": [],
   "source": [
    "region = 'ap-south-1'\n",
    "bucket = 'mybucket5432'"
   ]
  },
  {
   "cell_type": "code",
   "execution_count": null,
   "id": "6461b5e0",
   "metadata": {},
   "outputs": [],
   "source": [
    "import boto3"
   ]
  },
  {
   "cell_type": "code",
   "execution_count": null,
   "id": "2f1724b2",
   "metadata": {},
   "outputs": [],
   "source": [
    "upimage = \"file.jpg\""
   ]
  },
  {
   "cell_type": "code",
   "execution_count": null,
   "id": "600e85e2",
   "metadata": {},
   "outputs": [],
   "source": [
    "s3 = boto3.resource('s3')\n",
    "\n",
    "s3.Bucket(bucket).upload_file(myimage , \"file.jpg\")"
   ]
  },
  {
   "cell_type": "code",
   "execution_count": null,
   "id": "28bab532",
   "metadata": {},
   "outputs": [],
   "source": [
    "rek = boto3.client('rekognition' , region )"
   ]
  },
  {
   "cell_type": "code",
   "execution_count": null,
   "id": "42b28c3b",
   "metadata": {},
   "outputs": [],
   "source": [
    "rek"
   ]
  },
  {
   "cell_type": "code",
   "execution_count": null,
   "id": "64ebbe8f",
   "metadata": {},
   "outputs": [],
   "source": [
    "response = rek.detect_labels(\n",
    "    Image={\n",
    "          'S3Object': {\n",
    "              'Bucket': bucket,\n",
    "              'Name': upimage,\n",
    "          }\n",
    "      },\n",
    "      MaxLabels=10,\n",
    "      MinConfidence=90\n",
    "  ) \n",
    "\n",
    "for i in range(5):\n",
    "      print ( response['Labels'][i]['Name'] )"
   ]
  },
  {
   "cell_type": "code",
   "execution_count": null,
   "id": "e44b1229",
   "metadata": {},
   "outputs": [],
   "source": []
  },
  {
   "cell_type": "code",
   "execution_count": null,
   "id": "d265a023",
   "metadata": {},
   "outputs": [],
   "source": []
  }
 ],
 "metadata": {
  "kernelspec": {
   "display_name": "Python 3",
   "language": "python",
   "name": "python3"
  },
  "language_info": {
   "codemirror_mode": {
    "name": "ipython",
    "version": 3
   },
   "file_extension": ".py",
   "mimetype": "text/x-python",
   "name": "python",
   "nbconvert_exporter": "python",
   "pygments_lexer": "ipython3",
   "version": "3.8.8"
  }
 },
 "nbformat": 4,
 "nbformat_minor": 5
}
