{
 "cells": [
  {
   "cell_type": "code",
   "execution_count": 1,
   "id": "40fec329",
   "metadata": {},
   "outputs": [],
   "source": [
    "import cv2"
   ]
  },
  {
   "cell_type": "code",
   "execution_count": 2,
   "id": "5e32d39e",
   "metadata": {},
   "outputs": [],
   "source": [
    "cap = cv2.VideoCapture(0)\n",
    "myimage = \"pranay.jpg\"\n",
    "ret , photo = cap.read()\n",
    "cv2.imwrite( myimage , photo)\n",
    "cap.release()"
   ]
  },
  {
   "cell_type": "code",
   "execution_count": 3,
   "id": "af974a12",
   "metadata": {},
   "outputs": [],
   "source": [
    "region = 'ap-south-1'\n",
    "bucket = 'mybucket5432'"
   ]
  },
  {
   "cell_type": "code",
   "execution_count": 4,
   "id": "0e5dbffa",
   "metadata": {},
   "outputs": [],
   "source": [
    "import csv\n",
    "import boto3"
   ]
  },
  {
   "cell_type": "code",
   "execution_count": 5,
   "id": "668180b0",
   "metadata": {},
   "outputs": [],
   "source": [
    "upimage = \"file.jpg\""
   ]
  },
  {
   "cell_type": "code",
   "execution_count": 8,
   "id": "7f89fe60",
   "metadata": {},
   "outputs": [
    {
     "ename": "IndexError",
     "evalue": "list index out of range",
     "output_type": "error",
     "traceback": [
      "\u001b[1;31m---------------------------------------------------------------------------\u001b[0m",
      "\u001b[1;31mIndexError\u001b[0m                                Traceback (most recent call last)",
      "\u001b[1;32m<ipython-input-8-7809a4382a49>\u001b[0m in \u001b[0;36m<module>\u001b[1;34m\u001b[0m\n\u001b[0;32m      3\u001b[0m     \u001b[0mreader\u001b[0m \u001b[1;33m=\u001b[0m \u001b[0mcsv\u001b[0m\u001b[1;33m.\u001b[0m\u001b[0mreader\u001b[0m\u001b[1;33m(\u001b[0m\u001b[0minput\u001b[0m\u001b[1;33m)\u001b[0m\u001b[1;33m\u001b[0m\u001b[1;33m\u001b[0m\u001b[0m\n\u001b[0;32m      4\u001b[0m     \u001b[1;32mfor\u001b[0m \u001b[0mline\u001b[0m \u001b[1;32min\u001b[0m \u001b[0mreader\u001b[0m\u001b[1;33m:\u001b[0m\u001b[1;33m\u001b[0m\u001b[1;33m\u001b[0m\u001b[0m\n\u001b[1;32m----> 5\u001b[1;33m         \u001b[0maccess_key_id\u001b[0m \u001b[1;33m=\u001b[0m \u001b[0mline\u001b[0m\u001b[1;33m[\u001b[0m\u001b[1;36m2\u001b[0m\u001b[1;33m]\u001b[0m\u001b[1;33m\u001b[0m\u001b[1;33m\u001b[0m\u001b[0m\n\u001b[0m\u001b[0;32m      6\u001b[0m         \u001b[0msecret_access_key\u001b[0m \u001b[1;33m=\u001b[0m \u001b[0mline\u001b[0m\u001b[1;33m[\u001b[0m\u001b[1;36m3\u001b[0m\u001b[1;33m]\u001b[0m\u001b[1;33m\u001b[0m\u001b[1;33m\u001b[0m\u001b[0m\n",
      "\u001b[1;31mIndexError\u001b[0m: list index out of range"
     ]
    }
   ],
   "source": [
    "with open('credentials.csv.txt', 'r') as input:\n",
    "    next(input)\n",
    "    reader = csv.reader(input)\n",
    "    for line in reader:\n",
    "        access_key_id = line[2]\n",
    "        secret_access_key = line[3]       "
   ]
  },
  {
   "cell_type": "code",
   "execution_count": null,
   "id": "19f265cb",
   "metadata": {},
   "outputs": [],
   "source": [
    "s3 = boto3.resource('s3')\n",
    "s3.Bucket(bucket).upload_file(myimage , \"file.jpg\")"
   ]
  },
  {
   "cell_type": "code",
   "execution_count": null,
   "id": "1b8048cf",
   "metadata": {},
   "outputs": [],
   "source": [
    "rek = boto3.client('rekognition' , region )"
   ]
  },
  {
   "cell_type": "code",
   "execution_count": null,
   "id": "e70a805b",
   "metadata": {},
   "outputs": [],
   "source": [
    "response = rek.detect_labels(\n",
    "    Image={\n",
    "          'S3Object': {\n",
    "              'Bucket': bucket,\n",
    "              'Name': upimage,\n",
    "          }\n",
    "      },\n",
    "      MaxLabels=10,\n",
    "      MinConfidence=90\n",
    "  ) \n",
    "\n",
    "for i in range(5):\n",
    "      print ( response['Labels'][i]['Name'] )"
   ]
  },
  {
   "cell_type": "code",
   "execution_count": null,
   "id": "1a7358a0",
   "metadata": {},
   "outputs": [],
   "source": []
  },
  {
   "cell_type": "code",
   "execution_count": null,
   "id": "9e5be3b1",
   "metadata": {},
   "outputs": [],
   "source": []
  },
  {
   "cell_type": "code",
   "execution_count": null,
   "id": "fb04f318",
   "metadata": {},
   "outputs": [],
   "source": []
  }
 ],
 "metadata": {
  "kernelspec": {
   "display_name": "Python 3",
   "language": "python",
   "name": "python3"
  },
  "language_info": {
   "codemirror_mode": {
    "name": "ipython",
    "version": 3
   },
   "file_extension": ".py",
   "mimetype": "text/x-python",
   "name": "python",
   "nbconvert_exporter": "python",
   "pygments_lexer": "ipython3",
   "version": "3.8.8"
  }
 },
 "nbformat": 4,
 "nbformat_minor": 5
}
